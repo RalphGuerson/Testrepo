{
 "cells": [
  {
   "cell_type": "markdown",
   "id": "213c517c-607c-431e-a889-901db5672855",
   "metadata": {},
   "source": [
    "# Data Science Tools and Ecosystem"
   ]
  },
  {
   "cell_type": "markdown",
   "id": "b17de2e8-3f89-4a5a-9d5a-390a235811be",
   "metadata": {},
   "source": [
    "In this notebook, Data Science Tools and Ecosystem are summarized."
   ]
  },
  {
   "cell_type": "markdown",
   "id": "8aa14951-500b-4d92-8665-77f464609154",
   "metadata": {},
   "source": [
    "**Objectives**\n",
    "\n",
    "In order to be successful in Data Science, you need to be skilled with using tools that Data Science professionals employ as part of their jobs. This course teaches you about the popular tools in Data Science and how to use them. "
   ]
  },
  {
   "cell_type": "markdown",
   "id": "dad7287b-c252-4b6b-b339-f26fbb4fda4d",
   "metadata": {},
   "source": [
    "- RStudio.\n",
    "- Apache Spark.\n",
    "- TensorFlow.\n",
    "- Apache Hadoop.\n",
    "- RapidMiner."
   ]
  },
  {
   "cell_type": "markdown",
   "id": "6f42c8dc-faa6-40d4-98ed-5ce172400b1f",
   "metadata": {},
   "source": [
    "Some of the popular languages that Data Scientists use are:\n",
    " 1. Python\n",
    " 2. R\n",
    " 3. Java Script"
   ]
  },
  {
   "cell_type": "markdown",
   "id": "0dc6bf93-4301-43f3-aaad-44e3febe1115",
   "metadata": {},
   "source": [
    "Some of the commonly used libraries used by Data Scientists include:\n",
    "1. Panda\n",
    "2. ggplot2\n",
    "3. Dplyr"
   ]
  },
  {
   "cell_type": "markdown",
   "id": "9c866370-fc07-428d-be14-5194781cf1da",
   "metadata": {},
   "source": [
    "| Data Science Tools |\n",
    "| ------------------ |\n",
    "| RStudio |\n",
    "| Apache Spark |\n",
    "| TensorFlow |"
   ]
  },
  {
   "cell_type": "markdown",
   "id": "9aef69ad-bb67-49d8-82b5-8c89c567ee12",
   "metadata": {},
   "source": [
    "### Below are a few examples of evaluating arithmetic expressions in Python \n"
   ]
  },
  {
   "cell_type": "code",
   "execution_count": 1,
   "id": "b5106e72-0fd5-4012-87a8-197ecef1bbab",
   "metadata": {},
   "outputs": [
    {
     "data": {
      "text/plain": [
       "17"
      ]
     },
     "execution_count": 1,
     "metadata": {},
     "output_type": "execute_result"
    }
   ],
   "source": [
    "# This a simple arithmetic expression to mutiply then add integers \n",
    "(3*4)+5"
   ]
  },
  {
   "cell_type": "code",
   "execution_count": 2,
   "id": "47675126-48c7-4eb9-a62e-c9aaf8f16340",
   "metadata": {},
   "outputs": [
    {
     "data": {
      "text/plain": [
       "3.3333333333333335"
      ]
     },
     "execution_count": 2,
     "metadata": {},
     "output_type": "execute_result"
    }
   ],
   "source": [
    "# This will convert 200 minutes to hours by diving by 60\n",
    "200/60"
   ]
  },
  {
   "cell_type": "markdown",
   "id": "b7f5874c-c31b-4431-bff6-8ccef21419a6",
   "metadata": {},
   "source": [
    "## Author\n",
    "Ralph Guerson Alcide"
   ]
  },
  {
   "cell_type": "code",
   "execution_count": null,
   "id": "8d3c99b0-3eb9-4b1c-b88e-665ed1289a2c",
   "metadata": {},
   "outputs": [],
   "source": []
  }
 ],
 "metadata": {
  "kernelspec": {
   "display_name": "Python",
   "language": "python",
   "name": "conda-env-python-py"
  },
  "language_info": {
   "codemirror_mode": {
    "name": "ipython",
    "version": 3
   },
   "file_extension": ".py",
   "mimetype": "text/x-python",
   "name": "python",
   "nbconvert_exporter": "python",
   "pygments_lexer": "ipython3",
   "version": "3.7.12"
  }
 },
 "nbformat": 4,
 "nbformat_minor": 5
}
